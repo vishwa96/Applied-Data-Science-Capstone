{
 "cells": [
  {
   "cell_type": "markdown",
   "metadata": {
    "collapsed": true
   },
   "source": [
    "# Recommendation for buidling new Children Parks"
   ]
  },
  {
   "cell_type": "markdown",
   "metadata": {},
   "source": [
    "## Problem Statement"
   ]
  },
  {
   "cell_type": "markdown",
   "metadata": {},
   "source": [
    "### Kolkata is a very old and congested city (Kolkata, West Bengal, India). Within 20 KM from its center we need to recommend where the government can plan to build new children parks. The idea is to find where the existing famous children parks are located. Then to get the list of places, which are hugely populated and famous, but no place for children to play. Our purpose is to list down the areas where there is not a single significant children park and recommend the government to build new parks in those areas."
   ]
  },
  {
   "cell_type": "markdown",
   "metadata": {},
   "source": [
    "## Required Data"
   ]
  },
  {
   "cell_type": "markdown",
   "metadata": {},
   "source": [
    "### 1. List of places in West Bengal with their Pin Codes. For this purpose we can use any publicly available list of Pin Codes. Here I have plan to get the data from the site http://www.chennaiiq.com"
   ]
  },
  {
   "cell_type": "markdown",
   "metadata": {},
   "source": [
    "### 2. Latitude and Longitude of the areas is required to filter the location withing 20 KM from the center of Kolkata. For this purpose we can use geocode utility of googlemaps."
   ]
  },
  {
   "cell_type": "markdown",
   "metadata": {},
   "source": [
    "### 3. Need to get locations nearby Parks once the coordinates of the areas are available. Planed to use \\\"FourSquare\\\" to get local venues and filter out Parks from that."
   ]
  },
  {
   "cell_type": "markdown",
   "metadata": {},
   "source": [
    "## Foursquare"
   ]
  },
  {
   "cell_type": "markdown",
   "metadata": {},
   "source": [
    "### Foursquare is a local search-and-discovery service mobile app which provides search results for its users. For more information click on https://foursquare.com/"
   ]
  }
 ],
 "metadata": {
  "kernelspec": {
   "display_name": "Python 3.5",
   "language": "python",
   "name": "python3"
  },
  "language_info": {
   "codemirror_mode": {
    "name": "ipython",
    "version": 3
   },
   "file_extension": ".py",
   "mimetype": "text/x-python",
   "name": "python",
   "nbconvert_exporter": "python",
   "pygments_lexer": "ipython3",
   "version": "3.5.5"
  }
 },
 "nbformat": 4,
 "nbformat_minor": 1
}
